{
 "cells": [
  {
   "cell_type": "code",
   "execution_count": 1,
   "id": "6adf51d4-ed50-451d-8910-c0ff4728014d",
   "metadata": {},
   "outputs": [],
   "source": [
    "import pandas as pd\n",
    "\n",
    "# Load the CSV file\n",
    "file_path = 'aisdk-2024-11-12.csv'  # Update with your file path\n",
    "df = pd.read_csv(file_path)\n",
    "\n",
    "# Step 1: Remove rows where 'Destination' is 'Unknown' and 'ETA' is empty (NaN)\n",
    "df = df[(df['Destination'] != 'Unknown') & (df['ETA'].notna())]"
   ]
  },
  {
   "cell_type": "code",
   "execution_count": 3,
   "id": "32835832-7ede-484e-816e-a26148032349",
   "metadata": {},
   "outputs": [],
   "source": [
    "# Step 2: Keep only rows where 'Ship type' is either 'Cargo' or 'Tanker'\n",
    "df = df[df['Ship type'].isin(['Cargo', 'Tanker'])]"
   ]
  },
  {
   "cell_type": "code",
   "execution_count": 9,
   "id": "870eaa50-263b-4da7-b1c9-60de94b21f23",
   "metadata": {},
   "outputs": [],
   "source": [
    "df = df.drop_duplicates(subset=['IMO', '# Timestamp'], keep='first')"
   ]
  },
  {
   "cell_type": "code",
   "execution_count": 11,
   "id": "d4254bdc-7f2e-4f8f-ae7d-9206e7e04a88",
   "metadata": {},
   "outputs": [],
   "source": [
    "df = df[df['Navigational status'] != 'Unknown']"
   ]
  },
  {
   "cell_type": "code",
   "execution_count": 15,
   "id": "eae01fe7-0519-4886-8844-ea9c5a16c522",
   "metadata": {},
   "outputs": [
    {
     "name": "stdout",
     "output_type": "stream",
     "text": [
      "Number of rows after cleaning: 100000\n",
      "                # Timestamp Type of mobile       MMSI   Latitude  Longitude  \\\n",
      "482390  12/11/2024 04:32:26        Class A  244830834  54.192375   9.531470   \n",
      "701084  12/11/2024 06:34:33        Class A  538006764  55.596737  15.103172   \n",
      "777103  12/11/2024 07:16:40        Class A  211686000  54.594628  12.781865   \n",
      "453     12/11/2024 00:01:27        Class A  255915667  54.955152  13.491590   \n",
      "92399   12/11/2024 00:55:16        Class A  256882000  55.414628  10.990253   \n",
      "\n",
      "           Navigational status  ROT   SOG    COG  Heading  ... Length  \\\n",
      "482390  Under way using engine  0.0   7.0  249.8    249.0  ...  119.0   \n",
      "701084  Under way using engine  0.7  13.4  241.9    243.0  ...  183.0   \n",
      "777103  Under way using engine  0.0   8.9   74.0     73.0  ...   75.0   \n",
      "453     Under way using engine  0.0  15.9  250.7    250.0  ...  170.0   \n",
      "92399   Under way using engine  0.0  10.9  327.2    325.0  ...  205.0   \n",
      "\n",
      "       Type of position fixing device Draught        Destination  \\\n",
      "482390                            GPS     5.5              NLAMS   \n",
      "701084                            GPS    11.6               SKAW   \n",
      "777103                            GPS     2.7           SZCZECIN   \n",
      "453                               GPS     9.4              DKKAL   \n",
      "92399                             GPS     9.3  DEHAM VIA ROUTE-T   \n",
      "\n",
      "                        ETA  Data source type      A      B     C     D  \n",
      "482390  13/11/2024 12:00:00               AIS  108.0   11.0  11.0   4.0  \n",
      "701084  13/11/2024 15:00:00               AIS  148.0   35.0  11.0  21.0  \n",
      "777103  12/11/2024 20:00:00               AIS   65.0   10.0   6.0   4.0  \n",
      "453     12/11/2024 10:00:00               AIS  158.0   12.0   3.0  25.0  \n",
      "92399   13/11/2024 22:00:00               AIS   18.0  187.0  15.0  15.0  \n",
      "\n",
      "[5 rows x 26 columns]\n"
     ]
    }
   ],
   "source": [
    "# Check the cleaned data\n",
    "print(\"Number of rows after cleaning:\", len(df))\n",
    "print(df.head())"
   ]
  },
  {
   "cell_type": "code",
   "execution_count": 17,
   "id": "7c503df7-3e63-431d-bd1a-4d8677ec2974",
   "metadata": {},
   "outputs": [
    {
     "name": "stdout",
     "output_type": "stream",
     "text": [
      "Cleaned data saved to cleaned_data.csv\n"
     ]
    }
   ],
   "source": [
    "# Step 4: Save the cleaned data to a new CSV file\n",
    "output_file_path = 'cleaned_data.csv'\n",
    "df.to_csv(output_file_path, index=False)\n",
    "print(f\"Cleaned data saved to {output_file_path}\")"
   ]
  },
  {
   "cell_type": "code",
   "execution_count": null,
   "id": "d023e707-7277-4176-9dfe-b0a13bc95f93",
   "metadata": {},
   "outputs": [],
   "source": [
    "import pandas as pd\n",
    "import folium\n",
    "from folium.plugins import FastMarkerCluster\n",
    "\n",
    "# Load the cleaned CSV data\n",
    "file_path = 'cleaned_data.csv'  # Update with your actual file path\n",
    "df = pd.read_csv(file_path)\n",
    "\n",
    "# Initialize a folium map centered at a general location\n",
    "m = folium.Map(location=[0, 0], zoom_start=2)\n",
    "\n",
    "# Separate the data into cargo and tanker ships\n",
    "cargo_ships = df[df['Ship type'] == 'Cargo']\n",
    "tanker_ships = df[df['Ship type'] == 'Tanker']\n",
    "\n",
    "# Function to add a marker cluster to the map\n",
    "def add_markers(data, color, cluster):\n",
    "    for _, row in data.iterrows():\n",
    "        # Add a marker with a popup showing the ship name\n",
    "        folium.Marker(\n",
    "            location=[row['Latitude'], row['Longitude']],\n",
    "            popup=f\"Name: {row['Name']}\",\n",
    "            icon=folium.Icon(color=color)\n",
    "        ).add_to(cluster)\n",
    "\n",
    "# Add FastMarkerCluster for cargo ships (blue color)\n",
    "cargo_cluster = FastMarkerCluster([]).add_to(m)\n",
    "add_markers(cargo_ships, 'blue', cargo_cluster)\n",
    "\n",
    "# Add FastMarkerCluster for tanker ships (red color)\n",
    "tanker_cluster = FastMarkerCluster([]).add_to(m)\n",
    "add_markers(tanker_ships, 'red', tanker_cluster)\n",
    "\n",
    "# Display the map\n",
    "m"
   ]
  },
  {
   "cell_type": "code",
   "execution_count": null,
   "id": "5b9ca2c7-24f9-47d6-9107-4b376e6eee91",
   "metadata": {},
   "outputs": [],
   "source": []
  }
 ],
 "metadata": {
  "kernelspec": {
   "display_name": "Python 3 (ipykernel)",
   "language": "python",
   "name": "python3"
  },
  "language_info": {
   "codemirror_mode": {
    "name": "ipython",
    "version": 3
   },
   "file_extension": ".py",
   "mimetype": "text/x-python",
   "name": "python",
   "nbconvert_exporter": "python",
   "pygments_lexer": "ipython3",
   "version": "3.12.3"
  }
 },
 "nbformat": 4,
 "nbformat_minor": 5
}
