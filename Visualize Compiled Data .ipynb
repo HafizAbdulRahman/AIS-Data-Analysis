{
 "cells": [
  {
   "cell_type": "markdown",
   "id": "ac7db58f-c835-406b-aa66-73d235309f3d",
   "metadata": {},
   "source": [
    "# Developed path for each MMSI/Vessel on selection\n",
    "The list shows all the unique MMSI number and their respective information such as Destination and ETA if available. Upon selection of any MMSI number it generates the path with starting point as green icon and ending point as red and the path itself is shown as blue dots. "
   ]
  },
  {
   "cell_type": "code",
   "execution_count": 17,
   "id": "61d5a7da-c105-4730-a901-93b6a184407f",
   "metadata": {},
   "outputs": [
    {
     "data": {
      "application/vnd.jupyter.widget-view+json": {
       "model_id": "e5fe3b1ee55640ffb20dc30ef7b93e97",
       "version_major": 2,
       "version_minor": 0
      },
      "text/plain": [
       "interactive(children=(Dropdown(description='Select Vessel:', layout=Layout(width='600px'), options={'186805396…"
      ]
     },
     "execution_count": 17,
     "metadata": {},
     "output_type": "execute_result"
    }
   ],
   "source": [
    "import pandas as pd\n",
    "import folium\n",
    "import ipywidgets as widgets\n",
    "from IPython.display import display, clear_output\n",
    "from folium.plugins import AntPath  # For animated direction arrows\n",
    "\n",
    "# Load compiled AIS data\n",
    "compiled_df = pd.read_csv(\"compiled_ais_data.csv\")\n",
    "\n",
    "# Ensure required columns exist\n",
    "required_columns = {'MMSI', 'Latitude', 'Longitude', '# Timestamp', 'Destination', 'ETA'}\n",
    "if not required_columns.issubset(compiled_df.columns):\n",
    "    raise ValueError(f\"Missing required columns: {required_columns - set(compiled_df.columns)}\")\n",
    "\n",
    "# Convert Timestamp column to datetime\n",
    "compiled_df['# Timestamp'] = pd.to_datetime(compiled_df['# Timestamp'])\n",
    "\n",
    "# Extract unique vessel details\n",
    "vessel_info_list = []\n",
    "for mmsi, group in compiled_df.groupby('MMSI'):\n",
    "    destination = group['Destination'].dropna().iloc[0] if not group['Destination'].dropna().empty else \"Unknown\"\n",
    "    eta = group['ETA'].dropna().iloc[0] if not group['ETA'].dropna().empty else \"Unknown\"\n",
    "    total_positions = len(group)\n",
    "    vessel_info_list.append((mmsi, destination, eta, total_positions))\n",
    "\n",
    "# Convert list to DataFrame\n",
    "vessel_info_df = pd.DataFrame(vessel_info_list, columns=['MMSI', 'Destination', 'ETA', 'Total Positions'])\n",
    "\n",
    "# Create a formatted list for dropdown options\n",
    "dropdown_options = {\n",
    "    f\"{row['MMSI']} | {row['Destination']} | {row['ETA']} | {row['Total Positions']} positions\": row['MMSI']\n",
    "    for _, row in vessel_info_df.iterrows()\n",
    "}\n",
    "\n",
    "# Create a scrollable dropdown\n",
    "mmsi_dropdown = widgets.Dropdown(\n",
    "    options=dropdown_options,\n",
    "    description=\"Select Vessel:\",\n",
    "    style={'description_width': 'initial'},\n",
    "    layout=widgets.Layout(width='600px')  # Expand dropdown width for better readability\n",
    ")\n",
    "\n",
    "# Function to display vessel journey with first & last points highlighted\n",
    "def display_vessel_journey(selected_mmsi):\n",
    "    clear_output(wait=True)  # Clear previous output before updating\n",
    "    display(mmsi_dropdown)  # Redisplay dropdown\n",
    "\n",
    "    # Filter and sort data for the selected vessel\n",
    "    vessel_df = compiled_df[compiled_df['MMSI'] == selected_mmsi].sort_values(by='# Timestamp')\n",
    "\n",
    "    # Extract first and last positions\n",
    "    first_position = vessel_df.iloc[0]\n",
    "    last_position = vessel_df.iloc[-1]\n",
    "\n",
    "    # Extract vessel details\n",
    "    vessel_info = vessel_info_df[vessel_info_df['MMSI'] == selected_mmsi].iloc[0]\n",
    "    print(f\"Vessel Details for MMSI {selected_mmsi}:\")\n",
    "    print(f\"Destination: {vessel_info['Destination']}\")\n",
    "    print(f\"ETA: {vessel_info['ETA']}\")\n",
    "    print(f\"Total Recorded Positions: {vessel_info['Total Positions']}\\n\")\n",
    "\n",
    "    # Create a Folium map centered at the first position\n",
    "    vessel_map = folium.Map(location=[first_position['Latitude'], first_position['Longitude']], zoom_start=7)\n",
    "\n",
    "    # Plot the vessel's journey with directional arrows using AntPath\n",
    "    path_coordinates = vessel_df[['Latitude', 'Longitude']].values.tolist()\n",
    "    AntPath(locations=path_coordinates, delay=400, weight=2, color=\"blue\").add_to(vessel_map)\n",
    "\n",
    "    # Plot the journey as blue dots\n",
    "    for _, row in vessel_df.iterrows():\n",
    "        folium.CircleMarker(location=[row['Latitude'], row['Longitude']], radius=3, color='blue', fill=True).add_to(vessel_map)\n",
    "\n",
    "    # Mark first position in green (Start)\n",
    "    folium.Marker(\n",
    "        location=[first_position['Latitude'], first_position['Longitude']],\n",
    "        popup=\"Start Position\",\n",
    "        icon=folium.Icon(color=\"green\", icon=\"play\")\n",
    "    ).add_to(vessel_map)\n",
    "\n",
    "    # Mark last position in red (End)\n",
    "    folium.Marker(\n",
    "        location=[last_position['Latitude'], last_position['Longitude']],\n",
    "        popup=\"End Position\",\n",
    "        icon=folium.Icon(color=\"red\", icon=\"stop\")\n",
    "    ).add_to(vessel_map)\n",
    "\n",
    "    # Display the map\n",
    "    display(vessel_map)\n",
    "\n",
    "# Attach the function to the dropdown\n",
    "widgets.interactive(display_vessel_journey, selected_mmsi=mmsi_dropdown)\n"
   ]
  },
  {
   "cell_type": "code",
   "execution_count": null,
   "id": "930d7347-7d69-403e-be9c-3e116a717b20",
   "metadata": {},
   "outputs": [],
   "source": []
  }
 ],
 "metadata": {
  "kernelspec": {
   "display_name": "Python 3 (ipykernel)",
   "language": "python",
   "name": "python3"
  },
  "language_info": {
   "codemirror_mode": {
    "name": "ipython",
    "version": 3
   },
   "file_extension": ".py",
   "mimetype": "text/x-python",
   "name": "python",
   "nbconvert_exporter": "python",
   "pygments_lexer": "ipython3",
   "version": "3.12.3"
  }
 },
 "nbformat": 4,
 "nbformat_minor": 5
}
