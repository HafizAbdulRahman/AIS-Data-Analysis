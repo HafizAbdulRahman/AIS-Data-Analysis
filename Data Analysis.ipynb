{
 "cells": [
  {
   "cell_type": "code",
   "execution_count": 2,
   "id": "9d588171-6883-4da7-872c-fc7ef55885e3",
   "metadata": {},
   "outputs": [],
   "source": [
    "import pandas as pd\n",
    "\n",
    "# Load the large CSV file\n",
    "file_path = 'split_file_1.csv'\n",
    "df = pd.read_csv(file_path)\n",
    "\n",
    "# Filter out rows where 'Destination' is 'Unknown' or missing (NaN)\n",
    "df_filtered = df[(df['Destination'].notna()) & (df['Destination'] != 'Unknown')]\n"
   ]
  },
  {
   "cell_type": "code",
   "execution_count": 4,
   "id": "2860f5f7-a7a5-448d-8ee4-c0bd1657422a",
   "metadata": {},
   "outputs": [
    {
     "data": {
      "text/plain": [
       "(700509, 26)"
      ]
     },
     "execution_count": 4,
     "metadata": {},
     "output_type": "execute_result"
    }
   ],
   "source": [
    "df_filtered.shape"
   ]
  },
  {
   "cell_type": "code",
   "execution_count": 8,
   "id": "5621c351-7aa4-44f4-a062-9760baf8d4cc",
   "metadata": {},
   "outputs": [],
   "source": [
    "df_filtered = df_filtered[df_filtered['ETA'].notna()]"
   ]
  },
  {
   "cell_type": "code",
   "execution_count": 10,
   "id": "fc7ebb3c-4726-47df-b03b-72dc3e801d82",
   "metadata": {},
   "outputs": [
    {
     "data": {
      "text/plain": [
       "(589316, 26)"
      ]
     },
     "execution_count": 10,
     "metadata": {},
     "output_type": "execute_result"
    }
   ],
   "source": [
    "df_filtered.shape"
   ]
  },
  {
   "cell_type": "code",
   "execution_count": 12,
   "id": "e7762924-8c98-4939-bcad-24bafb2d0f33",
   "metadata": {},
   "outputs": [],
   "source": [
    "df_filtered.to_csv('filtered_data_with_eta.csv', index=False)"
   ]
  },
  {
   "cell_type": "code",
   "execution_count": null,
   "id": "2e2e59c0-92f6-455c-8c45-39f2799a6f07",
   "metadata": {},
   "outputs": [],
   "source": []
  }
 ],
 "metadata": {
  "kernelspec": {
   "display_name": "Python 3 (ipykernel)",
   "language": "python",
   "name": "python3"
  },
  "language_info": {
   "codemirror_mode": {
    "name": "ipython",
    "version": 3
   },
   "file_extension": ".py",
   "mimetype": "text/x-python",
   "name": "python",
   "nbconvert_exporter": "python",
   "pygments_lexer": "ipython3",
   "version": "3.12.3"
  }
 },
 "nbformat": 4,
 "nbformat_minor": 5
}
