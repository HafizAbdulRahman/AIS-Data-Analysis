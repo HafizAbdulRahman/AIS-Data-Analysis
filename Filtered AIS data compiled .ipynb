{
 "cells": [
  {
   "cell_type": "markdown",
   "id": "d04c4299-3650-48df-85ca-0215a5a598fc",
   "metadata": {},
   "source": [
    "# Compiling the filtered files\n",
    "After filtering the daily AIS raw data files, I compile the filtered data files in one with the following code."
   ]
  },
  {
   "cell_type": "code",
   "execution_count": null,
   "id": "0e3e0126-d188-44aa-b6e8-2d6d221602d3",
   "metadata": {},
   "outputs": [],
   "source": [
    "import pandas as pd\n",
    "import glob\n",
    "import os\n",
    "\n",
    "# Define the pattern for filtering relevant CSV files\n",
    "file_pattern = \"aisdk-*_filtered.csv\"\n",
    "\n",
    "# Get a list of matching CSV files in the current directory\n",
    "csv_files = glob.glob(file_pattern)\n",
    "\n",
    "# Check if any files are found\n",
    "if not csv_files:\n",
    "    raise ValueError(\"No CSV files matching the pattern 'aisdk-*_filtered.csv' found in the current folder.\")\n",
    "\n",
    "print(f\"Found {len(csv_files)} CSV files: {csv_files}\")\n",
    "\n",
    "# Initialize an empty list to store DataFrames\n",
    "data_frames = []\n",
    "\n",
    "# Read each CSV file and append to the list\n",
    "for file in csv_files:\n",
    "    df = pd.read_csv(file)\n",
    "    \n",
    "    # Ensure the file is not empty\n",
    "    if not df.empty:\n",
    "        data_frames.append(df)\n",
    "    else:\n",
    "        print(f\"Skipping empty file: {file}\")\n",
    "\n",
    "# Check if we have valid DataFrames before concatenation\n",
    "if not data_frames:\n",
    "    raise ValueError(\"No valid data found in the CSV files.\")\n",
    "\n",
    "# Concatenate all DataFrames into a single DataFrame\n",
    "compiled_df = pd.concat(data_frames, ignore_index=True)\n",
    "\n",
    "# Save the compiled DataFrame to a new CSV file\n",
    "compiled_df.to_csv(\"compiled_ais_data.csv\", index=False)\n",
    "\n",
    "print(f\"Compilation complete. Data saved as 'compiled_ais_data.csv' with {compiled_df.shape[0]} rows and {compiled_df.shape[1]} columns.\")\n"
   ]
  }
 ],
 "metadata": {
  "kernelspec": {
   "display_name": "Python 3 (ipykernel)",
   "language": "python",
   "name": "python3"
  },
  "language_info": {
   "codemirror_mode": {
    "name": "ipython",
    "version": 3
   },
   "file_extension": ".py",
   "mimetype": "text/x-python",
   "name": "python",
   "nbconvert_exporter": "python",
   "pygments_lexer": "ipython3",
   "version": "3.12.3"
  }
 },
 "nbformat": 4,
 "nbformat_minor": 5
}
