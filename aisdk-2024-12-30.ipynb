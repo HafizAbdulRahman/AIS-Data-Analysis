{
 "cells": [
  {
   "cell_type": "code",
   "execution_count": 1,
   "id": "c4a02f02-d91d-4fde-9985-bc10b54d2340",
   "metadata": {},
   "outputs": [
    {
     "name": "stderr",
     "output_type": "stream",
     "text": [
      "C:\\Users\\herox\\AppData\\Local\\Temp\\ipykernel_9012\\3204804454.py:24: DeprecationWarning: DataFrameGroupBy.apply operated on the grouping columns. This behavior is deprecated, and in a future version of pandas the grouping columns will be excluded from the operation. Either pass `include_groups=False` to exclude the groupings or explicitly select the grouping columns after groupby to silence this warning.\n",
      "  .apply(lambda group: group.iloc[-1])  # Get the last row for each MMSI\n"
     ]
    },
    {
     "data": {
      "application/vnd.jupyter.widget-view+json": {
       "model_id": "736a7a7cfb3f4d05b39eee2c5a802af1",
       "version_major": 2,
       "version_minor": 0
      },
      "text/plain": [
       "interactive(children=(SelectMultiple(description='MMSI:', index=(0,), layout=Layout(width='600px'), options=('…"
      ]
     },
     "metadata": {},
     "output_type": "display_data"
    },
    {
     "data": {
      "text/plain": [
       "<function __main__.interactive_map(selected_mmsi)>"
      ]
     },
     "execution_count": 1,
     "metadata": {},
     "output_type": "execute_result"
    }
   ],
   "source": [
    "import pandas as pd\n",
    "import folium\n",
    "from ipywidgets import interact, SelectMultiple\n",
    "\n",
    "# Load the dataset\n",
    "file_path = 'aisdk-2024-12-30.csv'  # Replace with your dataset path\n",
    "df = pd.read_csv(file_path)\n",
    "\n",
    "# Step 1: Filter rows where Longitude is 0\n",
    "df = df[df['Longitude'] != 0]\n",
    "\n",
    "# Step 2: Filter Ship type to include Cargo, Tanker, and Undefined (length > 100 for Undefined)\n",
    "df = df[\n",
    "    (df['Ship type'].isin(['Cargo', 'Tanker'])) |\n",
    "    ((df['Ship type'] == 'Undefined') & (df['Length'] > 100))\n",
    "]\n",
    "\n",
    "# Step 3: Remove duplicate rows where at the same Timestamp the same IMO number repeats\n",
    "df = df.drop_duplicates(subset=['# Timestamp', 'IMO'])\n",
    "\n",
    "# Step 4: Create a grouped list of unique MMSI numbers along with their final Timestamp, Destination, and ETA\n",
    "grouped_data = (\n",
    "    df.groupby('MMSI')\n",
    "    .apply(lambda group: group.iloc[-1])  # Get the last row for each MMSI\n",
    "    [['MMSI', '# Timestamp', 'Destination', 'ETA']]\n",
    "    .reset_index(drop=True)\n",
    ")\n",
    "\n",
    "# Convert the grouped data to a list for the dropdown\n",
    "mmsi_list = grouped_data.apply(\n",
    "    lambda row: f\"MMSI: {row['MMSI']} | Destination: {row['Destination']} | ETA: {row['ETA']}\",\n",
    "    axis=1\n",
    ").to_list()\n",
    "\n",
    "# Step 5: Function to plot a map of the journey based on the selected MMSI\n",
    "def plot_map(selected_mmsi):\n",
    "    # Extract MMSI numbers from the selected items\n",
    "    selected_mmsi_numbers = [int(info.split()[1]) for info in selected_mmsi]\n",
    "    \n",
    "    # Filter the data for the selected MMSI numbers\n",
    "    filtered_data = df[df['MMSI'].isin(selected_mmsi_numbers)]\n",
    "    \n",
    "    # Initialize a folium map centered on the first point in the filtered data\n",
    "    if not filtered_data.empty:\n",
    "        center_lat = filtered_data['Latitude'].iloc[0]\n",
    "        center_lon = filtered_data['Longitude'].iloc[0]\n",
    "    else:\n",
    "        center_lat, center_lon = 0, 0  # Default center if no data is selected\n",
    "    \n",
    "    m = folium.Map(location=[center_lat, center_lon], zoom_start=5)\n",
    "    \n",
    "    # Define colors for each navigational status\n",
    "    status_colors = {\n",
    "        'At anchor': 'blue',\n",
    "        'Constrained by her draught': 'purple',\n",
    "        'Moored': 'green',\n",
    "        'Under way sailing': 'orange',\n",
    "        'Under way using engine': 'red',\n",
    "        'Unknown value': 'gray'\n",
    "    }\n",
    "    \n",
    "    # Shorten the path: Keep one dot per 1-minute window\n",
    "    filtered_data['# Timestamp'] = pd.to_datetime(filtered_data['# Timestamp'])\n",
    "    filtered_data = filtered_data.sort_values(by='# Timestamp')\n",
    "    filtered_data = filtered_data.groupby(\n",
    "        [filtered_data['# Timestamp'].dt.floor('T'), 'MMSI'], as_index=False\n",
    "    ).first()\n",
    "    \n",
    "    # Add paths and markers\n",
    "    for mmsi in selected_mmsi_numbers:\n",
    "        mmsi_data = filtered_data[filtered_data['MMSI'] == mmsi]\n",
    "        coordinates = mmsi_data[['Latitude', 'Longitude']].values.tolist()\n",
    "        timestamps = mmsi_data['# Timestamp'].tolist()\n",
    "        statuses = mmsi_data['Navigational status'].tolist()\n",
    "        \n",
    "        # Draw paths with different colors for navigational status\n",
    "        for i, coord in enumerate(coordinates):\n",
    "            folium.CircleMarker(\n",
    "                location=coord,\n",
    "                radius=5,\n",
    "                color=status_colors.get(statuses[i], 'black'),  # Default to black for unknown statuses\n",
    "                fill=True,\n",
    "                fill_opacity=0.7,\n",
    "                popup=(\n",
    "                    f\"MMSI: {mmsi}<br>Timestamp: {timestamps[i]}<br>\"\n",
    "                    f\"Status: {statuses[i]}\"\n",
    "                ),\n",
    "            ).add_to(m)\n",
    "    \n",
    "    return m\n",
    "\n",
    "# Step 6: Create a dropdown menu to select MMSI\n",
    "dropdown = SelectMultiple(\n",
    "    options=mmsi_list,\n",
    "    value=[mmsi_list[0]],  # Default selection\n",
    "    description='MMSI:',\n",
    "    layout={'width': '600px'}\n",
    ")\n",
    "\n",
    "# Step 7: Interactive function to display the map\n",
    "def interactive_map(selected_mmsi):\n",
    "    map_widget = plot_map(selected_mmsi)\n",
    "    display(map_widget)\n",
    "\n",
    "# Display the dropdown and map\n",
    "interact(interactive_map, selected_mmsi=dropdown)"
   ]
  },
  {
   "cell_type": "code",
   "execution_count": null,
   "id": "77779802-e461-411f-851c-2130ce1dfca1",
   "metadata": {},
   "outputs": [],
   "source": []
  }
 ],
 "metadata": {
  "kernelspec": {
   "display_name": "Python 3 (ipykernel)",
   "language": "python",
   "name": "python3"
  },
  "language_info": {
   "codemirror_mode": {
    "name": "ipython",
    "version": 3
   },
   "file_extension": ".py",
   "mimetype": "text/x-python",
   "name": "python",
   "nbconvert_exporter": "python",
   "pygments_lexer": "ipython3",
   "version": "3.12.3"
  }
 },
 "nbformat": 4,
 "nbformat_minor": 5
}
