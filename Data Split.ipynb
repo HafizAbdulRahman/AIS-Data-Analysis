{
 "cells": [
  {
   "cell_type": "code",
   "execution_count": 27,
   "id": "a8f3aeda-79e1-4fe6-a4ab-c031df1617e7",
   "metadata": {},
   "outputs": [
    {
     "name": "stdout",
     "output_type": "stream",
     "text": [
      "Saved: split_file_1.csv\n",
      "Saved: split_file_2.csv\n",
      "Saved: split_file_3.csv\n",
      "Saved: split_file_4.csv\n",
      "Saved: split_file_5.csv\n",
      "Saved: split_file_6.csv\n",
      "Saved: split_file_7.csv\n",
      "Saved: split_file_8.csv\n",
      "Saved: split_file_9.csv\n",
      "Saved: split_file_10.csv\n",
      "Saved: split_file_11.csv\n",
      "Saved: split_file_12.csv\n",
      "Saved: split_file_13.csv\n",
      "Saved: split_file_14.csv\n",
      "Saved: split_file_15.csv\n",
      "Saved: split_file_16.csv\n",
      "Saved: split_file_17.csv\n",
      "Splitting completed successfully!\n"
     ]
    }
   ],
   "source": [
    "import pandas as pd\n",
    "\n",
    "# Define the file path to your large CSV file\n",
    "file_path = 'aisdk-2024-11-12.csv'\n",
    "\n",
    "# Define the number of rows per split file\n",
    "rows_per_file = 1000000\n",
    "\n",
    "\n",
    "reader = pd.read_csv(file_path, chunksize=rows_per_file)\n",
    "\n",
    "# Initialize a counter for file naming\n",
    "file_counter = 1\n",
    "\n",
    "for chunk in reader:\n",
    "    # Construct the file name\n",
    "    output_file = f'split_file_{file_counter}.csv'\n",
    "    \n",
    "    # Save the chunk to a new CSV file\n",
    "    chunk.to_csv(output_file, index=False)\n",
    "    \n",
    "    # Print the status\n",
    "    print(f\"Saved: {output_file}\")\n",
    "    \n",
    "    # Increment the counter\n",
    "    file_counter += 1\n",
    "\n",
    "print(\"Splitting completed successfully!\")"
   ]
  },
  {
   "cell_type": "code",
   "execution_count": null,
   "id": "53832a88-85ec-4673-90db-d142a8592f70",
   "metadata": {},
   "outputs": [],
   "source": []
  }
 ],
 "metadata": {
  "kernelspec": {
   "display_name": "Python 3 (ipykernel)",
   "language": "python",
   "name": "python3"
  },
  "language_info": {
   "codemirror_mode": {
    "name": "ipython",
    "version": 3
   },
   "file_extension": ".py",
   "mimetype": "text/x-python",
   "name": "python",
   "nbconvert_exporter": "python",
   "pygments_lexer": "ipython3",
   "version": "3.12.3"
  }
 },
 "nbformat": 4,
 "nbformat_minor": 5
}
